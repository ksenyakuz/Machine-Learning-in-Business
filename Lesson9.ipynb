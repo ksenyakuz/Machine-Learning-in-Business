{
 "cells": [
  {
   "cell_type": "markdown",
   "id": "55cac751",
   "metadata": {},
   "source": [
    "**Определение сердечно-сосудистых заболеваний**"
   ]
  },
  {
   "cell_type": "markdown",
   "id": "a90f63c8",
   "metadata": {},
   "source": [
    "target - наличие сердечно-сосудистых заболеваний (ССЗ)"
   ]
  },
  {
   "cell_type": "code",
   "execution_count": 1,
   "id": "4005b476",
   "metadata": {},
   "outputs": [],
   "source": [
    "import numpy as np\n",
    "import pandas as pd\n",
    "\n",
    "from sklearn.model_selection import cross_val_score, train_test_split\n",
    "from sklearn.pipeline import Pipeline, make_pipeline\n",
    "from sklearn.base import BaseEstimator, TransformerMixin\n",
    "from sklearn.preprocessing import StandardScaler\n",
    "\n",
    "from sklearn.metrics import precision_recall_curve, roc_curve, roc_auc_score, confusion_matrix"
   ]
  },
  {
   "cell_type": "code",
   "execution_count": 2,
   "id": "278351cd",
   "metadata": {},
   "outputs": [
    {
     "data": {
      "text/html": [
       "<div>\n",
       "<style scoped>\n",
       "    .dataframe tbody tr th:only-of-type {\n",
       "        vertical-align: middle;\n",
       "    }\n",
       "\n",
       "    .dataframe tbody tr th {\n",
       "        vertical-align: top;\n",
       "    }\n",
       "\n",
       "    .dataframe thead th {\n",
       "        text-align: right;\n",
       "    }\n",
       "</style>\n",
       "<table border=\"1\" class=\"dataframe\">\n",
       "  <thead>\n",
       "    <tr style=\"text-align: right;\">\n",
       "      <th></th>\n",
       "      <th>age</th>\n",
       "      <th>gender</th>\n",
       "      <th>height</th>\n",
       "      <th>weight</th>\n",
       "      <th>ap_hi</th>\n",
       "      <th>ap_lo</th>\n",
       "      <th>smoke</th>\n",
       "      <th>alco</th>\n",
       "      <th>active</th>\n",
       "      <th>cardio</th>\n",
       "    </tr>\n",
       "  </thead>\n",
       "  <tbody>\n",
       "    <tr>\n",
       "      <th>0</th>\n",
       "      <td>18393</td>\n",
       "      <td>2</td>\n",
       "      <td>168</td>\n",
       "      <td>62.0</td>\n",
       "      <td>110</td>\n",
       "      <td>80</td>\n",
       "      <td>0</td>\n",
       "      <td>0</td>\n",
       "      <td>1</td>\n",
       "      <td>0</td>\n",
       "    </tr>\n",
       "    <tr>\n",
       "      <th>1</th>\n",
       "      <td>20228</td>\n",
       "      <td>1</td>\n",
       "      <td>156</td>\n",
       "      <td>85.0</td>\n",
       "      <td>140</td>\n",
       "      <td>90</td>\n",
       "      <td>0</td>\n",
       "      <td>0</td>\n",
       "      <td>1</td>\n",
       "      <td>1</td>\n",
       "    </tr>\n",
       "    <tr>\n",
       "      <th>2</th>\n",
       "      <td>18857</td>\n",
       "      <td>1</td>\n",
       "      <td>165</td>\n",
       "      <td>64.0</td>\n",
       "      <td>130</td>\n",
       "      <td>70</td>\n",
       "      <td>0</td>\n",
       "      <td>0</td>\n",
       "      <td>0</td>\n",
       "      <td>1</td>\n",
       "    </tr>\n",
       "  </tbody>\n",
       "</table>\n",
       "</div>"
      ],
      "text/plain": [
       "     age  gender  height  weight  ap_hi  ap_lo  smoke  alco  active  cardio\n",
       "0  18393       2     168    62.0    110     80      0     0       1       0\n",
       "1  20228       1     156    85.0    140     90      0     0       1       1\n",
       "2  18857       1     165    64.0    130     70      0     0       0       1"
      ]
     },
     "execution_count": 2,
     "metadata": {},
     "output_type": "execute_result"
    }
   ],
   "source": [
    "df = pd.read_csv('D:\\Study\\Machine Learning in Business\\Manual\\Lesson9/train_case2.csv', sep=';')\n",
    "# Удалим 2 столбца\n",
    "df = df.drop(['id', 'cholesterol', 'gluc'], axis=1)\n",
    "df.head(3)"
   ]
  },
  {
   "cell_type": "markdown",
   "id": "7689b70d",
   "metadata": {},
   "source": [
    "Предобработка"
   ]
  },
  {
   "cell_type": "code",
   "execution_count": 4,
   "id": "220047f8",
   "metadata": {},
   "outputs": [
    {
     "data": {
      "text/html": [
       "<div>\n",
       "<style scoped>\n",
       "    .dataframe tbody tr th:only-of-type {\n",
       "        vertical-align: middle;\n",
       "    }\n",
       "\n",
       "    .dataframe tbody tr th {\n",
       "        vertical-align: top;\n",
       "    }\n",
       "\n",
       "    .dataframe thead th {\n",
       "        text-align: right;\n",
       "    }\n",
       "</style>\n",
       "<table border=\"1\" class=\"dataframe\">\n",
       "  <thead>\n",
       "    <tr style=\"text-align: right;\">\n",
       "      <th></th>\n",
       "      <th>age</th>\n",
       "      <th>gender</th>\n",
       "      <th>height</th>\n",
       "      <th>weight</th>\n",
       "      <th>ap_hi</th>\n",
       "      <th>ap_lo</th>\n",
       "      <th>smoke</th>\n",
       "      <th>alco</th>\n",
       "      <th>active</th>\n",
       "      <th>cardio</th>\n",
       "    </tr>\n",
       "  </thead>\n",
       "  <tbody>\n",
       "    <tr>\n",
       "      <th>count</th>\n",
       "      <td>70000.000000</td>\n",
       "      <td>70000.000000</td>\n",
       "      <td>70000.000000</td>\n",
       "      <td>70000.000000</td>\n",
       "      <td>70000.000000</td>\n",
       "      <td>70000.000000</td>\n",
       "      <td>70000.000000</td>\n",
       "      <td>70000.000000</td>\n",
       "      <td>70000.000000</td>\n",
       "      <td>70000.000000</td>\n",
       "    </tr>\n",
       "    <tr>\n",
       "      <th>mean</th>\n",
       "      <td>19468.865814</td>\n",
       "      <td>1.349571</td>\n",
       "      <td>164.359229</td>\n",
       "      <td>74.205690</td>\n",
       "      <td>128.817286</td>\n",
       "      <td>96.630414</td>\n",
       "      <td>0.088129</td>\n",
       "      <td>0.053771</td>\n",
       "      <td>0.803729</td>\n",
       "      <td>0.499700</td>\n",
       "    </tr>\n",
       "    <tr>\n",
       "      <th>std</th>\n",
       "      <td>2467.251667</td>\n",
       "      <td>0.476838</td>\n",
       "      <td>8.210126</td>\n",
       "      <td>14.395757</td>\n",
       "      <td>154.011419</td>\n",
       "      <td>188.472530</td>\n",
       "      <td>0.283484</td>\n",
       "      <td>0.225568</td>\n",
       "      <td>0.397179</td>\n",
       "      <td>0.500003</td>\n",
       "    </tr>\n",
       "    <tr>\n",
       "      <th>min</th>\n",
       "      <td>10798.000000</td>\n",
       "      <td>1.000000</td>\n",
       "      <td>55.000000</td>\n",
       "      <td>10.000000</td>\n",
       "      <td>-150.000000</td>\n",
       "      <td>-70.000000</td>\n",
       "      <td>0.000000</td>\n",
       "      <td>0.000000</td>\n",
       "      <td>0.000000</td>\n",
       "      <td>0.000000</td>\n",
       "    </tr>\n",
       "    <tr>\n",
       "      <th>25%</th>\n",
       "      <td>17664.000000</td>\n",
       "      <td>1.000000</td>\n",
       "      <td>159.000000</td>\n",
       "      <td>65.000000</td>\n",
       "      <td>120.000000</td>\n",
       "      <td>80.000000</td>\n",
       "      <td>0.000000</td>\n",
       "      <td>0.000000</td>\n",
       "      <td>1.000000</td>\n",
       "      <td>0.000000</td>\n",
       "    </tr>\n",
       "    <tr>\n",
       "      <th>50%</th>\n",
       "      <td>19703.000000</td>\n",
       "      <td>1.000000</td>\n",
       "      <td>165.000000</td>\n",
       "      <td>72.000000</td>\n",
       "      <td>120.000000</td>\n",
       "      <td>80.000000</td>\n",
       "      <td>0.000000</td>\n",
       "      <td>0.000000</td>\n",
       "      <td>1.000000</td>\n",
       "      <td>0.000000</td>\n",
       "    </tr>\n",
       "    <tr>\n",
       "      <th>75%</th>\n",
       "      <td>21327.000000</td>\n",
       "      <td>2.000000</td>\n",
       "      <td>170.000000</td>\n",
       "      <td>82.000000</td>\n",
       "      <td>140.000000</td>\n",
       "      <td>90.000000</td>\n",
       "      <td>0.000000</td>\n",
       "      <td>0.000000</td>\n",
       "      <td>1.000000</td>\n",
       "      <td>1.000000</td>\n",
       "    </tr>\n",
       "    <tr>\n",
       "      <th>max</th>\n",
       "      <td>23713.000000</td>\n",
       "      <td>2.000000</td>\n",
       "      <td>250.000000</td>\n",
       "      <td>200.000000</td>\n",
       "      <td>16020.000000</td>\n",
       "      <td>11000.000000</td>\n",
       "      <td>1.000000</td>\n",
       "      <td>1.000000</td>\n",
       "      <td>1.000000</td>\n",
       "      <td>1.000000</td>\n",
       "    </tr>\n",
       "  </tbody>\n",
       "</table>\n",
       "</div>"
      ],
      "text/plain": [
       "                age        gender        height        weight         ap_hi  \\\n",
       "count  70000.000000  70000.000000  70000.000000  70000.000000  70000.000000   \n",
       "mean   19468.865814      1.349571    164.359229     74.205690    128.817286   \n",
       "std     2467.251667      0.476838      8.210126     14.395757    154.011419   \n",
       "min    10798.000000      1.000000     55.000000     10.000000   -150.000000   \n",
       "25%    17664.000000      1.000000    159.000000     65.000000    120.000000   \n",
       "50%    19703.000000      1.000000    165.000000     72.000000    120.000000   \n",
       "75%    21327.000000      2.000000    170.000000     82.000000    140.000000   \n",
       "max    23713.000000      2.000000    250.000000    200.000000  16020.000000   \n",
       "\n",
       "              ap_lo         smoke          alco        active        cardio  \n",
       "count  70000.000000  70000.000000  70000.000000  70000.000000  70000.000000  \n",
       "mean      96.630414      0.088129      0.053771      0.803729      0.499700  \n",
       "std      188.472530      0.283484      0.225568      0.397179      0.500003  \n",
       "min      -70.000000      0.000000      0.000000      0.000000      0.000000  \n",
       "25%       80.000000      0.000000      0.000000      1.000000      0.000000  \n",
       "50%       80.000000      0.000000      0.000000      1.000000      0.000000  \n",
       "75%       90.000000      0.000000      0.000000      1.000000      1.000000  \n",
       "max    11000.000000      1.000000      1.000000      1.000000      1.000000  "
      ]
     },
     "execution_count": 4,
     "metadata": {},
     "output_type": "execute_result"
    }
   ],
   "source": [
    "df.describe()"
   ]
  },
  {
   "cell_type": "markdown",
   "id": "8a748c52",
   "metadata": {},
   "source": [
    "Поиск пропусков"
   ]
  },
  {
   "cell_type": "code",
   "execution_count": 5,
   "id": "a1cded72",
   "metadata": {},
   "outputs": [
    {
     "data": {
      "text/html": [
       "<div>\n",
       "<style scoped>\n",
       "    .dataframe tbody tr th:only-of-type {\n",
       "        vertical-align: middle;\n",
       "    }\n",
       "\n",
       "    .dataframe tbody tr th {\n",
       "        vertical-align: top;\n",
       "    }\n",
       "\n",
       "    .dataframe thead th {\n",
       "        text-align: right;\n",
       "    }\n",
       "</style>\n",
       "<table border=\"1\" class=\"dataframe\">\n",
       "  <thead>\n",
       "    <tr style=\"text-align: right;\">\n",
       "      <th></th>\n",
       "      <th>age</th>\n",
       "      <th>gender</th>\n",
       "      <th>height</th>\n",
       "      <th>weight</th>\n",
       "      <th>ap_hi</th>\n",
       "      <th>ap_lo</th>\n",
       "      <th>smoke</th>\n",
       "      <th>alco</th>\n",
       "      <th>active</th>\n",
       "      <th>cardio</th>\n",
       "    </tr>\n",
       "  </thead>\n",
       "  <tbody>\n",
       "    <tr>\n",
       "      <th>0</th>\n",
       "      <td>0</td>\n",
       "      <td>0</td>\n",
       "      <td>0</td>\n",
       "      <td>0</td>\n",
       "      <td>0</td>\n",
       "      <td>0</td>\n",
       "      <td>0</td>\n",
       "      <td>0</td>\n",
       "      <td>0</td>\n",
       "      <td>0</td>\n",
       "    </tr>\n",
       "  </tbody>\n",
       "</table>\n",
       "</div>"
      ],
      "text/plain": [
       "   age  gender  height  weight  ap_hi  ap_lo  smoke  alco  active  cardio\n",
       "0    0       0       0       0      0      0      0     0       0       0"
      ]
     },
     "execution_count": 5,
     "metadata": {},
     "output_type": "execute_result"
    }
   ],
   "source": [
    "pd.DataFrame(df.isnull().sum()).T"
   ]
  },
  {
   "cell_type": "code",
   "execution_count": 6,
   "id": "40b7d544",
   "metadata": {},
   "outputs": [
    {
     "data": {
      "text/plain": [
       "count    70000.000000\n",
       "mean        53.339358\n",
       "std          6.759594\n",
       "min         29.583562\n",
       "25%         48.394521\n",
       "50%         53.980822\n",
       "75%         58.430137\n",
       "max         64.967123\n",
       "Name: age, dtype: float64"
      ]
     },
     "execution_count": 6,
     "metadata": {},
     "output_type": "execute_result"
    }
   ],
   "source": [
    "(df['age']/365).describe()"
   ]
  },
  {
   "cell_type": "markdown",
   "id": "eddd017b",
   "metadata": {},
   "source": [
    "Аномалии height -> замена на медиану"
   ]
  },
  {
   "cell_type": "code",
   "execution_count": 7,
   "id": "e6b9f8e4",
   "metadata": {},
   "outputs": [],
   "source": [
    "df.loc[df['height'] > 220, 'height'] = df['height'].median()"
   ]
  },
  {
   "cell_type": "markdown",
   "id": "34e144e6",
   "metadata": {},
   "source": [
    "Аномалии ap_hi"
   ]
  },
  {
   "cell_type": "code",
   "execution_count": 8,
   "id": "acf0c335",
   "metadata": {},
   "outputs": [],
   "source": [
    "# замена знака\n",
    "df.loc[df['ap_hi'] <= 0, 'ap_hi'] = np.abs(df['ap_hi'])"
   ]
  },
  {
   "cell_type": "code",
   "execution_count": 9,
   "id": "8f60e5f0",
   "metadata": {},
   "outputs": [],
   "source": [
    "# уменьшение разрядов\n",
    "df.loc[(df['ap_hi'] > 500) & (df['ap_hi'] < 10000), 'ap_hi'] = df['ap_hi'] / 10"
   ]
  },
  {
   "cell_type": "code",
   "execution_count": 10,
   "id": "4024ea32",
   "metadata": {},
   "outputs": [],
   "source": [
    "# уменьшение разрядов\n",
    "df.loc[(df['ap_hi'] > 10000), 'ap_hi'] = df['ap_hi'] / 100"
   ]
  },
  {
   "cell_type": "code",
   "execution_count": 11,
   "id": "2f07fc77",
   "metadata": {},
   "outputs": [],
   "source": [
    "# замена на медиану\n",
    "df.loc[(df['ap_hi'] > 250), 'ap_hi'] = df['ap_hi'].median()"
   ]
  },
  {
   "cell_type": "code",
   "execution_count": 12,
   "id": "3f2ea9bb",
   "metadata": {},
   "outputs": [],
   "source": [
    "# увеличение разрядов\n",
    "df.loc[(df['ap_hi'] < 50), 'ap_hi'] = df['ap_hi'] * 10"
   ]
  },
  {
   "cell_type": "code",
   "execution_count": 14,
   "id": "d582fcfa",
   "metadata": {},
   "outputs": [
    {
     "data": {
      "text/plain": [
       "count    70000.000000\n",
       "mean       126.997107\n",
       "std         17.114820\n",
       "min         60.000000\n",
       "25%        120.000000\n",
       "50%        120.000000\n",
       "75%        140.000000\n",
       "max        240.000000\n",
       "Name: ap_hi, dtype: float64"
      ]
     },
     "execution_count": 14,
     "metadata": {},
     "output_type": "execute_result"
    }
   ],
   "source": [
    "df['ap_hi'].describe()"
   ]
  },
  {
   "cell_type": "markdown",
   "id": "c507db6b",
   "metadata": {},
   "source": [
    "Аномалия ap_lo"
   ]
  },
  {
   "cell_type": "code",
   "execution_count": 15,
   "id": "1360e7d7",
   "metadata": {},
   "outputs": [],
   "source": [
    "#  -> замена знака\n",
    "df.loc[df['ap_lo'] < 0, 'ap_lo'] = np.abs(df['ap_lo'])"
   ]
  },
  {
   "cell_type": "code",
   "execution_count": 16,
   "id": "453b89ef",
   "metadata": {},
   "outputs": [],
   "source": [
    "# -> замена на медиану\n",
    "df.loc[df['ap_lo'] == 0, 'ap_lo'] = np.median(df['ap_lo'])"
   ]
  },
  {
   "cell_type": "code",
   "execution_count": 17,
   "id": "6f680330",
   "metadata": {},
   "outputs": [],
   "source": [
    "df.loc[df['ap_lo'] > 200, 'ap_lo'] = df['ap_lo'] / 10"
   ]
  },
  {
   "cell_type": "code",
   "execution_count": 18,
   "id": "421fe884",
   "metadata": {},
   "outputs": [],
   "source": [
    "df.loc[df['ap_lo'] > 200, 'ap_lo'] = df['ap_lo'] / 10"
   ]
  },
  {
   "cell_type": "code",
   "execution_count": 19,
   "id": "dab55432",
   "metadata": {},
   "outputs": [],
   "source": [
    "df.loc[df['ap_lo'] > 200, 'ap_lo'] = df['ap_lo'] / 10"
   ]
  },
  {
   "cell_type": "code",
   "execution_count": 20,
   "id": "c00d6229",
   "metadata": {},
   "outputs": [],
   "source": [
    "df.loc[df['ap_lo'] < 50, 'ap_lo'] = df['ap_lo'] * 10"
   ]
  },
  {
   "cell_type": "code",
   "execution_count": 21,
   "id": "27fb59cd",
   "metadata": {},
   "outputs": [],
   "source": [
    "df.loc[df['ap_lo'] < 50, 'ap_lo'] = df['ap_lo'] * 10"
   ]
  },
  {
   "cell_type": "code",
   "execution_count": 22,
   "id": "44f3a0a8",
   "metadata": {},
   "outputs": [],
   "source": [
    "s = df['ap_lo'] > 150\n",
    "df.loc[s, ['ap_hi', 'ap_lo']] = df.loc[s, ['ap_lo', 'ap_hi']].values"
   ]
  },
  {
   "cell_type": "code",
   "execution_count": 23,
   "id": "129a86d7",
   "metadata": {},
   "outputs": [
    {
     "data": {
      "text/plain": [
       "count    70000.000000\n",
       "mean        81.686803\n",
       "std          9.961945\n",
       "min         50.000000\n",
       "25%         80.000000\n",
       "50%         80.000000\n",
       "75%         90.000000\n",
       "max        240.000000\n",
       "Name: ap_lo, dtype: float64"
      ]
     },
     "execution_count": 23,
     "metadata": {},
     "output_type": "execute_result"
    }
   ],
   "source": [
    "df['ap_lo'].describe()"
   ]
  },
  {
   "cell_type": "markdown",
   "id": "21c09161",
   "metadata": {},
   "source": [
    "Преобразование gender"
   ]
  },
  {
   "cell_type": "code",
   "execution_count": 24,
   "id": "d0de28a6",
   "metadata": {},
   "outputs": [
    {
     "data": {
      "text/html": [
       "<div>\n",
       "<style scoped>\n",
       "    .dataframe tbody tr th:only-of-type {\n",
       "        vertical-align: middle;\n",
       "    }\n",
       "\n",
       "    .dataframe tbody tr th {\n",
       "        vertical-align: top;\n",
       "    }\n",
       "\n",
       "    .dataframe thead th {\n",
       "        text-align: right;\n",
       "    }\n",
       "</style>\n",
       "<table border=\"1\" class=\"dataframe\">\n",
       "  <thead>\n",
       "    <tr style=\"text-align: right;\">\n",
       "      <th></th>\n",
       "      <th>age</th>\n",
       "      <th>height</th>\n",
       "      <th>weight</th>\n",
       "      <th>ap_hi</th>\n",
       "      <th>ap_lo</th>\n",
       "      <th>smoke</th>\n",
       "      <th>alco</th>\n",
       "      <th>active</th>\n",
       "      <th>cardio</th>\n",
       "    </tr>\n",
       "    <tr>\n",
       "      <th>gender</th>\n",
       "      <th></th>\n",
       "      <th></th>\n",
       "      <th></th>\n",
       "      <th></th>\n",
       "      <th></th>\n",
       "      <th></th>\n",
       "      <th></th>\n",
       "      <th></th>\n",
       "      <th></th>\n",
       "    </tr>\n",
       "  </thead>\n",
       "  <tbody>\n",
       "    <tr>\n",
       "      <th>1</th>\n",
       "      <td>19510.124577</td>\n",
       "      <td>161.353745</td>\n",
       "      <td>72.565605</td>\n",
       "      <td>126.365133</td>\n",
       "      <td>81.197424</td>\n",
       "      <td>0.017856</td>\n",
       "      <td>0.025500</td>\n",
       "      <td>0.802021</td>\n",
       "      <td>0.496727</td>\n",
       "    </tr>\n",
       "    <tr>\n",
       "      <th>2</th>\n",
       "      <td>19392.097875</td>\n",
       "      <td>169.947895</td>\n",
       "      <td>77.257307</td>\n",
       "      <td>128.550544</td>\n",
       "      <td>82.597363</td>\n",
       "      <td>0.218880</td>\n",
       "      <td>0.106375</td>\n",
       "      <td>0.806906</td>\n",
       "      <td>0.505231</td>\n",
       "    </tr>\n",
       "  </tbody>\n",
       "</table>\n",
       "</div>"
      ],
      "text/plain": [
       "                 age      height     weight       ap_hi      ap_lo     smoke  \\\n",
       "gender                                                                         \n",
       "1       19510.124577  161.353745  72.565605  126.365133  81.197424  0.017856   \n",
       "2       19392.097875  169.947895  77.257307  128.550544  82.597363  0.218880   \n",
       "\n",
       "            alco    active    cardio  \n",
       "gender                                \n",
       "1       0.025500  0.802021  0.496727  \n",
       "2       0.106375  0.806906  0.505231  "
      ]
     },
     "execution_count": 24,
     "metadata": {},
     "output_type": "execute_result"
    }
   ],
   "source": [
    "df.groupby('gender').mean()"
   ]
  },
  {
   "cell_type": "code",
   "execution_count": 25,
   "id": "fd80086c",
   "metadata": {},
   "outputs": [],
   "source": [
    "# Примем, что средний вес мужчин > среднего веса женщин\n",
    "df['gender'] = df['gender'].map({1: 0, \n",
    "                                 2: 1})"
   ]
  },
  {
   "cell_type": "code",
   "execution_count": 26,
   "id": "cc910087",
   "metadata": {},
   "outputs": [
    {
     "data": {
      "text/html": [
       "<div>\n",
       "<style scoped>\n",
       "    .dataframe tbody tr th:only-of-type {\n",
       "        vertical-align: middle;\n",
       "    }\n",
       "\n",
       "    .dataframe tbody tr th {\n",
       "        vertical-align: top;\n",
       "    }\n",
       "\n",
       "    .dataframe thead th {\n",
       "        text-align: right;\n",
       "    }\n",
       "</style>\n",
       "<table border=\"1\" class=\"dataframe\">\n",
       "  <thead>\n",
       "    <tr style=\"text-align: right;\">\n",
       "      <th></th>\n",
       "      <th>age</th>\n",
       "      <th>gender</th>\n",
       "      <th>height</th>\n",
       "      <th>weight</th>\n",
       "      <th>ap_hi</th>\n",
       "      <th>ap_lo</th>\n",
       "      <th>smoke</th>\n",
       "      <th>alco</th>\n",
       "      <th>active</th>\n",
       "      <th>cardio</th>\n",
       "    </tr>\n",
       "  </thead>\n",
       "  <tbody>\n",
       "    <tr>\n",
       "      <th>0</th>\n",
       "      <td>18393</td>\n",
       "      <td>1</td>\n",
       "      <td>168</td>\n",
       "      <td>62.0</td>\n",
       "      <td>110.0</td>\n",
       "      <td>80.0</td>\n",
       "      <td>0</td>\n",
       "      <td>0</td>\n",
       "      <td>1</td>\n",
       "      <td>0</td>\n",
       "    </tr>\n",
       "    <tr>\n",
       "      <th>1</th>\n",
       "      <td>20228</td>\n",
       "      <td>0</td>\n",
       "      <td>156</td>\n",
       "      <td>85.0</td>\n",
       "      <td>140.0</td>\n",
       "      <td>90.0</td>\n",
       "      <td>0</td>\n",
       "      <td>0</td>\n",
       "      <td>1</td>\n",
       "      <td>1</td>\n",
       "    </tr>\n",
       "    <tr>\n",
       "      <th>2</th>\n",
       "      <td>18857</td>\n",
       "      <td>0</td>\n",
       "      <td>165</td>\n",
       "      <td>64.0</td>\n",
       "      <td>130.0</td>\n",
       "      <td>70.0</td>\n",
       "      <td>0</td>\n",
       "      <td>0</td>\n",
       "      <td>0</td>\n",
       "      <td>1</td>\n",
       "    </tr>\n",
       "    <tr>\n",
       "      <th>3</th>\n",
       "      <td>17623</td>\n",
       "      <td>1</td>\n",
       "      <td>169</td>\n",
       "      <td>82.0</td>\n",
       "      <td>150.0</td>\n",
       "      <td>100.0</td>\n",
       "      <td>0</td>\n",
       "      <td>0</td>\n",
       "      <td>1</td>\n",
       "      <td>1</td>\n",
       "    </tr>\n",
       "    <tr>\n",
       "      <th>4</th>\n",
       "      <td>17474</td>\n",
       "      <td>0</td>\n",
       "      <td>156</td>\n",
       "      <td>56.0</td>\n",
       "      <td>100.0</td>\n",
       "      <td>60.0</td>\n",
       "      <td>0</td>\n",
       "      <td>0</td>\n",
       "      <td>0</td>\n",
       "      <td>0</td>\n",
       "    </tr>\n",
       "  </tbody>\n",
       "</table>\n",
       "</div>"
      ],
      "text/plain": [
       "     age  gender  height  weight  ap_hi  ap_lo  smoke  alco  active  cardio\n",
       "0  18393       1     168    62.0  110.0   80.0      0     0       1       0\n",
       "1  20228       0     156    85.0  140.0   90.0      0     0       1       1\n",
       "2  18857       0     165    64.0  130.0   70.0      0     0       0       1\n",
       "3  17623       1     169    82.0  150.0  100.0      0     0       1       1\n",
       "4  17474       0     156    56.0  100.0   60.0      0     0       0       0"
      ]
     },
     "execution_count": 26,
     "metadata": {},
     "output_type": "execute_result"
    }
   ],
   "source": [
    "df.head()"
   ]
  },
  {
   "cell_type": "markdown",
   "id": "a049895a",
   "metadata": {},
   "source": [
    "Разделим наши данные на тренировочную и тестовую выборки"
   ]
  },
  {
   "cell_type": "code",
   "execution_count": 27,
   "id": "565aee02",
   "metadata": {},
   "outputs": [],
   "source": [
    "X_train, X_test, y_train, y_test = train_test_split(\n",
    "    df.drop(['cardio', ], axis=1),\n",
    "    df['cardio'], \n",
    "    random_state=0)"
   ]
  },
  {
   "cell_type": "markdown",
   "id": "7c3f4bd4",
   "metadata": {},
   "source": [
    "Добавим классификатор и запустим кросс-валидацию"
   ]
  },
  {
   "cell_type": "code",
   "execution_count": 28,
   "id": "788cea92",
   "metadata": {},
   "outputs": [],
   "source": [
    "from xgboost import XGBClassifier\n",
    "from sklearn.ensemble import RandomForestClassifier\n",
    "from sklearn.tree import DecisionTreeClassifier"
   ]
  },
  {
   "cell_type": "code",
   "execution_count": 29,
   "id": "d7550e98",
   "metadata": {},
   "outputs": [],
   "source": [
    "# classifier = RandomForestClassifier(n_estimators=200, random_state=42)\n",
    "classifier = DecisionTreeClassifier(max_depth=5, random_state=42)\n",
    "# classifier = XGBClassifier(random_state=42)"
   ]
  },
  {
   "cell_type": "code",
   "execution_count": 30,
   "id": "3a6b64ae",
   "metadata": {},
   "outputs": [
    {
     "name": "stdout",
     "output_type": "stream",
     "text": [
      "CV score is 0.7863046003341406+-0.0072098004566204495\n",
      "Wall time: 1.13 s\n"
     ]
    }
   ],
   "source": [
    "%%time\n",
    "\n",
    "#запустим кросс-валидацию\n",
    "cv_scores = cross_val_score(classifier, X_train, y_train, cv=16, scoring='roc_auc')\n",
    "cv_score = np.mean(cv_scores)\n",
    "cv_score_std = np.std(cv_scores)\n",
    "print('CV score is {}+-{}'.format(cv_score, cv_score_std))\n",
    "\n",
    "#обучим пайплайн на всем тренировочном датасете\n",
    "classifier.fit(X_train, y_train)\n",
    "y_score = classifier.predict_proba(X_test)[:, 1]"
   ]
  },
  {
   "cell_type": "code",
   "execution_count": 31,
   "id": "538a616f",
   "metadata": {},
   "outputs": [
    {
     "name": "stdout",
     "output_type": "stream",
     "text": [
      "Best Threshold=0.402778, F-Score=0.729, Precision=0.660, Recall=0.813\n"
     ]
    }
   ],
   "source": [
    "b=1\n",
    "precision, recall, thresholds = precision_recall_curve(y_test.values, y_score)\n",
    "fscore = (1+b**2)*(precision * recall) / (b**2*precision + recall)\n",
    "# locate the index of the largest f score\n",
    "ix = np.argmax(fscore)\n",
    "print('Best Threshold=%f, F-Score=%.3f, Precision=%.3f, Recall=%.3f' % (thresholds[ix], \n",
    "                                                                        fscore[ix],\n",
    "                                                                        precision[ix],\n",
    "                                                                        recall[ix]))"
   ]
  },
  {
   "cell_type": "code",
   "execution_count": 32,
   "id": "fc1090b4",
   "metadata": {},
   "outputs": [],
   "source": [
    "X_test_2 = pd.DataFrame(\n",
    "    {\n",
    "        'age': 18,\n",
    "        'gender': 1,  # 1 == man\n",
    "        'height': 164,\n",
    "        'weight': 54.0,\n",
    "        'ap_hi': 200,\n",
    "        'ap_lo': 80,\n",
    "        'smoke': 0,\n",
    "        'alco': 0,\n",
    "        'active': 1\n",
    "    },\n",
    "    index=[80282])"
   ]
  },
  {
   "cell_type": "code",
   "execution_count": 33,
   "id": "93a4d9b5",
   "metadata": {},
   "outputs": [
    {
     "data": {
      "text/plain": [
       "array([1], dtype=int64)"
      ]
     },
     "execution_count": 33,
     "metadata": {},
     "output_type": "execute_result"
    }
   ],
   "source": [
    "classifier.predict(X_test_2)"
   ]
  },
  {
   "cell_type": "code",
   "execution_count": 34,
   "id": "be1b52eb",
   "metadata": {},
   "outputs": [
    {
     "data": {
      "text/plain": [
       "array([[0.13611111, 0.86388889]])"
      ]
     },
     "execution_count": 34,
     "metadata": {},
     "output_type": "execute_result"
    }
   ],
   "source": [
    "classifier.predict_proba(X_test_2)"
   ]
  },
  {
   "cell_type": "code",
   "execution_count": 36,
   "id": "a0bd2723",
   "metadata": {},
   "outputs": [],
   "source": [
    "import dill\n",
    "\n",
    "with open(\"model_rfc.dill\", \"wb\") as f:\n",
    "    dill.dump(classifier, f)"
   ]
  },
  {
   "cell_type": "code",
   "execution_count": 37,
   "id": "cc98c910",
   "metadata": {},
   "outputs": [],
   "source": [
    "import pickle \n",
    "\n",
    "with open('model_dtc.pkl', 'wb') as file:\n",
    "    pickle.dump(classifier,file)"
   ]
  },
  {
   "cell_type": "code",
   "execution_count": 41,
   "id": "52e45190",
   "metadata": {},
   "outputs": [],
   "source": [
    "#загрузка модели\n",
    "\n",
    "# with open(MODEL_FILE_PATH,'rb') as file:\n",
    "    # model_load=pickle.load(file)"
   ]
  },
  {
   "cell_type": "code",
   "execution_count": 40,
   "id": "3b051eeb",
   "metadata": {},
   "outputs": [
    {
     "name": "stdout",
     "output_type": "stream",
     "text": [
      "alabaster @ file:///home/ktietz/src/ci/alabaster_1611921544520/work\n",
      "anaconda-client @ file:///C:/ci/anaconda-client_1635342725944/work\n",
      "anaconda-navigator==2.1.1\n",
      "anaconda-project @ file:///tmp/build/80754af9/anaconda-project_1626085644852/work\n",
      "anyio @ file:///C:/ci/anyio_1620153135622/work/dist\n",
      "appdirs==1.4.4\n",
      "argh==0.26.2\n",
      "argon2-cffi @ file:///C:/ci/argon2-cffi_1613037869401/work\n",
      "arrow @ file:///C:/ci/arrow_1617738834352/work\n",
      "asn1crypto @ file:///tmp/build/80754af9/asn1crypto_1596577642040/work\n",
      "astroid @ file:///C:/ci/astroid_1628063282661/work\n",
      "astropy @ file:///C:/ci/astropy_1629829318700/work\n",
      "async-generator @ file:///home/ktietz/src/ci/async_generator_1611927993394/work\n",
      "atomicwrites==1.4.0\n",
      "attrs @ file:///tmp/build/80754af9/attrs_1620827162558/work\n",
      "autopep8 @ file:///tmp/build/80754af9/autopep8_1620866417880/work\n",
      "Babel @ file:///tmp/build/80754af9/babel_1620871417480/work\n",
      "backcall @ file:///home/ktietz/src/ci/backcall_1611930011877/work\n",
      "backports.functools-lru-cache @ file:///tmp/build/80754af9/backports.functools_lru_cache_1618170165463/work\n",
      "backports.shutil-get-terminal-size @ file:///tmp/build/80754af9/backports.shutil_get_terminal_size_1608222128777/work\n",
      "backports.tempfile @ file:///home/linux1/recipes/ci/backports.tempfile_1610991236607/work\n",
      "backports.weakref==1.0.post1\n",
      "bcrypt @ file:///C:/ci/bcrypt_1607022693089/work\n",
      "beautifulsoup4 @ file:///tmp/build/80754af9/beautifulsoup4_1631874778482/work\n",
      "binaryornot @ file:///tmp/build/80754af9/binaryornot_1617751525010/work\n",
      "bitarray @ file:///C:/ci/bitarray_1629133068652/work\n",
      "bkcharts==0.2\n",
      "black==19.10b0\n",
      "bleach @ file:///tmp/build/80754af9/bleach_1628110601003/work\n",
      "bokeh @ file:///C:/ci/bokeh_1635306491714/work\n",
      "boto==2.49.0\n",
      "Bottleneck @ file:///C:/ci/bottleneck_1607557040328/work\n",
      "brotlipy==0.7.0\n",
      "cached-property @ file:///tmp/build/80754af9/cached-property_1600785575025/work\n",
      "catboost==1.1.1\n",
      "certifi==2021.10.8\n",
      "cffi @ file:///C:/ci/cffi_1625831756778/work\n",
      "chardet @ file:///C:/ci/chardet_1607706937985/work\n",
      "charset-normalizer @ file:///tmp/build/80754af9/charset-normalizer_1630003229654/work\n",
      "click==8.0.3\n",
      "cloudpickle @ file:///tmp/build/80754af9/cloudpickle_1632508026186/work\n",
      "clyent==1.2.2\n",
      "colorama @ file:///tmp/build/80754af9/colorama_1607707115595/work\n",
      "comtypes==1.1.10\n",
      "conda==4.14.0\n",
      "conda-build==3.21.6\n",
      "conda-content-trust @ file:///tmp/build/80754af9/conda-content-trust_1617045594566/work\n",
      "conda-pack @ file:///tmp/build/80754af9/conda-pack_1611163042455/work\n",
      "conda-package-handling @ file:///C:/ci/conda-package-handling_1618262410900/work\n",
      "conda-repo-cli @ file:///tmp/build/80754af9/conda-repo-cli_1620168426516/work\n",
      "conda-token @ file:///tmp/build/80754af9/conda-token_1620076980546/work\n",
      "conda-verify==3.4.2\n",
      "contextlib2 @ file:///Users/ktietz/demo/mc3/conda-bld/contextlib2_1630668244042/work\n",
      "cookiecutter @ file:///tmp/build/80754af9/cookiecutter_1617748928239/work\n",
      "cryptography @ file:///C:/ci/cryptography_1633520531101/work\n",
      "cycler==0.10.0\n",
      "Cython @ file:///C:/ci/cython_1636018292912/work\n",
      "cytoolz==0.11.0\n",
      "daal4py==2021.3.0\n",
      "dask==2021.10.0\n",
      "DAWG-Python==0.7.2\n",
      "debugpy @ file:///C:/ci/debugpy_1629222819322/work\n",
      "decorator @ file:///tmp/build/80754af9/decorator_1632776554403/work\n",
      "defusedxml @ file:///tmp/build/80754af9/defusedxml_1615228127516/work\n",
      "diff-match-patch @ file:///Users/ktietz/demo/mc3/conda-bld/diff-match-patch_1630511840874/work\n",
      "dill==0.3.6\n",
      "distributed @ file:///C:/ci/distributed_1635968318313/work\n",
      "docopt==0.6.2\n",
      "docutils @ file:///C:/ci/docutils_1620828264669/work\n",
      "entrypoints==0.3\n",
      "et-xmlfile==1.1.0\n",
      "fastcache @ file:///C:/ci/fastcache_1607571310570/work\n",
      "filelock @ file:///tmp/build/80754af9/filelock_1635402558181/work\n",
      "flake8 @ file:///tmp/build/80754af9/flake8_1620776156532/work\n",
      "Flask @ file:///home/ktietz/src/ci/flask_1611932660458/work\n",
      "fonttools==4.25.0\n",
      "fsspec @ file:///tmp/build/80754af9/fsspec_1636116461911/work\n",
      "future @ file:///C:/ci/future_1607568713721/work\n",
      "gensim==4.3.1\n",
      "gevent @ file:///C:/ci/gevent_1628273776273/work\n",
      "glob2 @ file:///home/linux1/recipes/ci/glob2_1610991677669/work\n",
      "graphviz==0.20.1\n",
      "greenlet @ file:///C:/ci/greenlet_1628888275363/work\n",
      "h5py @ file:///C:/ci/h5py_1622088609188/work\n",
      "HeapDict @ file:///Users/ktietz/demo/mc3/conda-bld/heapdict_1630598515714/work\n",
      "html5lib @ file:///Users/ktietz/demo/mc3/conda-bld/html5lib_1629144453894/work\n",
      "idna @ file:///tmp/build/80754af9/idna_1622654382723/work\n",
      "imagecodecs @ file:///C:/ci/imagecodecs_1635511087451/work\n",
      "imageio @ file:///tmp/build/80754af9/imageio_1617700267927/work\n",
      "imagesize @ file:///Users/ktietz/demo/mc3/conda-bld/imagesize_1628863108022/work\n",
      "importlib-metadata @ file:///C:/ci/importlib-metadata_1631916826748/work\n",
      "inflection==0.5.1\n",
      "iniconfig @ file:///home/linux1/recipes/ci/iniconfig_1610983019677/work\n",
      "intervaltree @ file:///Users/ktietz/demo/mc3/conda-bld/intervaltree_1630511889664/work\n",
      "ipykernel @ file:///C:/ci/ipykernel_1633545585502/work/dist/ipykernel-6.4.1-py3-none-any.whl\n",
      "ipython @ file:///C:/ci/ipython_1635944283918/work\n",
      "ipython-genutils @ file:///tmp/build/80754af9/ipython_genutils_1606773439826/work\n",
      "ipywidgets @ file:///tmp/build/80754af9/ipywidgets_1634143127070/work\n",
      "isort @ file:///tmp/build/80754af9/isort_1628603791788/work\n",
      "itsdangerous @ file:///tmp/build/80754af9/itsdangerous_1621432558163/work\n",
      "jdcal @ file:///Users/ktietz/demo/mc3/conda-bld/jdcal_1630584345063/work\n",
      "jedi @ file:///C:/ci/jedi_1611341083684/work\n",
      "Jinja2 @ file:///tmp/build/80754af9/jinja2_1612213139570/work\n",
      "jinja2-time @ file:///tmp/build/80754af9/jinja2-time_1617751524098/work\n",
      "joblib @ file:///tmp/build/80754af9/joblib_1635411271373/work\n",
      "json5 @ file:///tmp/build/80754af9/json5_1624432770122/work\n",
      "jsonschema @ file:///Users/ktietz/demo/mc3/conda-bld/jsonschema_1630511932244/work\n",
      "jupyter @ file:///C:/ci/jupyter_1607685287094/work\n",
      "jupyter-client @ file:///tmp/build/80754af9/jupyter_client_1616770841739/work\n",
      "jupyter-console @ file:///tmp/build/80754af9/jupyter_console_1616615302928/work\n",
      "jupyter-core @ file:///C:/ci/jupyter_core_1633420716440/work\n",
      "jupyter-server @ file:///C:/ci/jupyter_server_1616084298419/work\n",
      "jupyterlab @ file:///tmp/build/80754af9/jupyterlab_1635799997693/work\n",
      "jupyterlab-pygments @ file:///tmp/build/80754af9/jupyterlab_pygments_1601490720602/work\n",
      "jupyterlab-server @ file:///tmp/build/80754af9/jupyterlab_server_1633419203660/work\n",
      "jupyterlab-widgets @ file:///tmp/build/80754af9/jupyterlab_widgets_1609884341231/work\n",
      "keyring @ file:///C:/ci/keyring_1629321702436/work\n",
      "kiwisolver @ file:///C:/ci/kiwisolver_1612282555033/work\n",
      "lazy-object-proxy @ file:///C:/ci/lazy-object-proxy_1616529288960/work\n",
      "libarchive-c @ file:///tmp/build/80754af9/python-libarchive-c_1617780486945/work\n",
      "llvmlite==0.37.0\n",
      "locket==0.2.1\n",
      "lxml @ file:///C:/ci/lxml_1616443418777/work\n",
      "MarkupSafe @ file:///C:/ci/markupsafe_1607027406824/work\n",
      "matplotlib @ file:///C:/ci/matplotlib-suite_1634667159685/work\n",
      "matplotlib-inline @ file:///tmp/build/80754af9/matplotlib-inline_1628242447089/work\n",
      "mccabe==0.6.1\n",
      "menuinst @ file:///C:/ci/menuinst_1631733438520/work\n",
      "mistune @ file:///C:/ci/mistune_1607359457024/work\n",
      "mkl-fft==1.3.1\n",
      "mkl-random @ file:///C:/ci/mkl_random_1626186184308/work\n",
      "mkl-service==2.4.0\n",
      "mock @ file:///tmp/build/80754af9/mock_1607622725907/work\n",
      "more-itertools @ file:///tmp/build/80754af9/more-itertools_1635423142362/work\n",
      "mpmath==1.2.1\n",
      "msgpack @ file:///C:/ci/msgpack-python_1612287350784/work\n",
      "multipledispatch @ file:///C:/ci/multipledispatch_1607574329826/work\n",
      "munkres==1.1.4\n",
      "mypy-extensions==0.4.3\n",
      "navigator-updater==0.2.1\n",
      "nbclassic @ file:///tmp/build/80754af9/nbclassic_1616085367084/work\n",
      "nbclient @ file:///tmp/build/80754af9/nbclient_1614364831625/work\n",
      "nbconvert @ file:///C:/ci/nbconvert_1624479160025/work\n",
      "nbformat @ file:///tmp/build/80754af9/nbformat_1617383369282/work\n",
      "nest-asyncio @ file:///tmp/build/80754af9/nest-asyncio_1613680548246/work\n",
      "networkx @ file:///tmp/build/80754af9/networkx_1633639043937/work\n",
      "nltk==3.6.5\n",
      "nose @ file:///tmp/build/80754af9/nose_1606773131901/work\n",
      "notebook @ file:///C:/ci/notebook_1635393701545/work\n",
      "numba @ file:///C:/ci/numba_1635186062888/work\n",
      "numexpr @ file:///C:/ci/numexpr_1618856728739/work\n",
      "numpy==1.20.3\n",
      "numpydoc @ file:///tmp/build/80754af9/numpydoc_1605117425582/work\n",
      "olefile @ file:///Users/ktietz/demo/mc3/conda-bld/olefile_1629805411829/work\n",
      "openpyxl @ file:///tmp/build/80754af9/openpyxl_1632777717936/work\n",
      "packaging @ file:///tmp/build/80754af9/packaging_1625611678980/work\n",
      "pandas @ file:///C:/ci/pandas_1635506685681/work\n",
      "pandocfilters @ file:///C:/ci/pandocfilters_1605114832805/work\n",
      "paramiko @ file:///tmp/build/80754af9/paramiko_1598886428689/work\n",
      "parso @ file:///tmp/build/80754af9/parso_1617223946239/work\n",
      "partd @ file:///tmp/build/80754af9/partd_1618000087440/work\n",
      "path @ file:///C:/ci/path_1624287837534/work\n",
      "pathlib2 @ file:///C:/ci/pathlib2_1625585796814/work\n",
      "pathspec==0.7.0\n",
      "patsy==0.5.2\n",
      "pep8==1.7.1\n",
      "pexpect @ file:///tmp/build/80754af9/pexpect_1605563209008/work\n",
      "pickleshare @ file:///tmp/build/80754af9/pickleshare_1606932040724/work\n",
      "Pillow==8.4.0\n",
      "pkginfo==1.7.1\n",
      "plotly==5.14.0\n",
      "pluggy @ file:///C:/ci/pluggy_1615976440052/work\n",
      "ply==3.11\n",
      "poyo @ file:///tmp/build/80754af9/poyo_1617751526755/work\n",
      "prometheus-client @ file:///tmp/build/80754af9/prometheus_client_1623189609245/work\n",
      "prompt-toolkit @ file:///tmp/build/80754af9/prompt-toolkit_1633440160888/work\n",
      "psutil @ file:///C:/ci/psutil_1612298199233/work\n",
      "ptyprocess @ file:///tmp/build/80754af9/ptyprocess_1609355006118/work/dist/ptyprocess-0.7.0-py2.py3-none-any.whl\n",
      "py @ file:///tmp/build/80754af9/py_1607971587848/work\n",
      "pycodestyle @ file:///tmp/build/80754af9/pycodestyle_1615748559966/work\n",
      "pycosat==0.6.3\n",
      "pycparser @ file:///tmp/build/80754af9/pycparser_1594388511720/work\n",
      "pycurl==7.44.1\n",
      "pydocstyle @ file:///tmp/build/80754af9/pydocstyle_1621600989141/work\n",
      "pyerfa @ file:///C:/ci/pyerfa_1621560974055/work\n",
      "pyflakes @ file:///tmp/build/80754af9/pyflakes_1617200973297/work\n",
      "Pygments @ file:///tmp/build/80754af9/pygments_1629234116488/work\n",
      "PyJWT @ file:///C:/ci/pyjwt_1619682721924/work\n",
      "pylint @ file:///C:/ci/pylint_1627536884966/work\n",
      "pyls-spyder==0.4.0\n",
      "pymongo==4.2.0\n",
      "pymorphy2==0.9.1\n",
      "pymorphy2-dicts-ru==2.4.417127.4579844\n",
      "PyNaCl @ file:///C:/ci/pynacl_1607612759007/work\n",
      "pyodbc===4.0.0-unsupported\n",
      "pyOpenSSL @ file:///tmp/build/80754af9/pyopenssl_1635333100036/work\n",
      "pyparsing @ file:///tmp/build/80754af9/pyparsing_1635766073266/work\n",
      "pyreadline==2.1\n",
      "pyrsistent @ file:///C:/ci/pyrsistent_1636093225342/work\n",
      "PySocks @ file:///C:/ci/pysocks_1605307512533/work\n",
      "pytest==6.2.4\n",
      "python-dateutil @ file:///tmp/build/80754af9/python-dateutil_1626374649649/work\n",
      "python-lsp-black @ file:///tmp/build/80754af9/python-lsp-black_1634232156041/work\n",
      "python-lsp-jsonrpc==1.0.0\n",
      "python-lsp-server==1.2.4\n",
      "python-slugify @ file:///tmp/build/80754af9/python-slugify_1620405669636/work\n",
      "pytz==2021.3\n",
      "PyWavelets @ file:///C:/ci/pywavelets_1607645631519/work\n",
      "pywin32==228\n",
      "pywin32-ctypes @ file:///C:/ci/pywin32-ctypes_1607553594546/work\n",
      "pywinpty @ file:///C:/ci/pywinpty_1607419945780/work\n",
      "PyYAML==6.0\n",
      "pyzmq @ file:///C:/ci/pyzmq_1628276105793/work\n",
      "QDarkStyle @ file:///tmp/build/80754af9/qdarkstyle_1617386714626/work\n",
      "qstylizer @ file:///tmp/build/80754af9/qstylizer_1617713584600/work/dist/qstylizer-0.1.10-py2.py3-none-any.whl\n",
      "QtAwesome @ file:///tmp/build/80754af9/qtawesome_1615991616277/work\n",
      "qtconsole @ file:///tmp/build/80754af9/qtconsole_1632739723211/work\n",
      "QtPy @ file:///tmp/build/80754af9/qtpy_1629397026935/work\n",
      "razdel==0.5.0\n",
      "regex @ file:///C:/ci/regex_1628063427816/work\n",
      "requests @ file:///tmp/build/80754af9/requests_1629994808627/work\n",
      "rope @ file:///tmp/build/80754af9/rope_1623703006312/work\n",
      "Rtree @ file:///C:/ci/rtree_1618421015405/work\n",
      "ruamel-yaml-conda @ file:///C:/ci/ruamel_yaml_1616016898638/work\n",
      "scikit-image==0.18.3\n",
      "scikit-learn @ file:///C:/ci/scikit-learn_1622739499047/work\n",
      "scikit-learn-intelex==2021.20210714.120553\n",
      "scikit-uplift==0.5.1\n",
      "scipy @ file:///C:/ci/scipy_1630606917240/work\n",
      "seaborn @ file:///tmp/build/80754af9/seaborn_1629307859561/work\n",
      "Send2Trash @ file:///tmp/build/80754af9/send2trash_1632406701022/work\n",
      "shap==0.41.0\n",
      "simplegeneric==0.8.1\n",
      "singledispatch @ file:///tmp/build/80754af9/singledispatch_1629321204894/work\n",
      "sip==4.19.13\n",
      "six @ file:///tmp/build/80754af9/six_1623709665295/work\n",
      "slicer==0.0.7\n",
      "smart-open==6.3.0\n",
      "sniffio @ file:///C:/ci/sniffio_1614030527509/work\n",
      "snowballstemmer @ file:///tmp/build/80754af9/snowballstemmer_1611258885636/work\n",
      "sortedcollections @ file:///tmp/build/80754af9/sortedcollections_1611172717284/work\n",
      "sortedcontainers @ file:///tmp/build/80754af9/sortedcontainers_1623949099177/work\n",
      "soupsieve @ file:///tmp/build/80754af9/soupsieve_1616183228191/work\n",
      "Sphinx==4.2.0\n",
      "sphinxcontrib-applehelp @ file:///home/ktietz/src/ci/sphinxcontrib-applehelp_1611920841464/work\n",
      "sphinxcontrib-devhelp @ file:///home/ktietz/src/ci/sphinxcontrib-devhelp_1611920923094/work\n",
      "sphinxcontrib-htmlhelp @ file:///tmp/build/80754af9/sphinxcontrib-htmlhelp_1623945626792/work\n",
      "sphinxcontrib-jsmath @ file:///home/ktietz/src/ci/sphinxcontrib-jsmath_1611920942228/work\n",
      "sphinxcontrib-qthelp @ file:///home/ktietz/src/ci/sphinxcontrib-qthelp_1611921055322/work\n",
      "sphinxcontrib-serializinghtml @ file:///tmp/build/80754af9/sphinxcontrib-serializinghtml_1624451540180/work\n",
      "sphinxcontrib-websupport @ file:///tmp/build/80754af9/sphinxcontrib-websupport_1597081412696/work\n",
      "spyder @ file:///C:/ci/spyder_1636480369575/work\n",
      "spyder-kernels @ file:///C:/ci/spyder-kernels_1634237096710/work\n",
      "SQLAlchemy @ file:///C:/ci/sqlalchemy_1626948551162/work\n",
      "statsmodels==0.12.2\n",
      "sympy @ file:///C:/ci/sympy_1635219088507/work\n",
      "tables==3.6.1\n",
      "TBB==0.2\n",
      "tblib @ file:///Users/ktietz/demo/mc3/conda-bld/tblib_1629402031467/work\n",
      "tenacity==8.2.2\n",
      "terminado==0.9.4\n",
      "testpath @ file:///tmp/build/80754af9/testpath_1624638946665/work\n",
      "text-unidecode @ file:///Users/ktietz/demo/mc3/conda-bld/text-unidecode_1629401354553/work\n",
      "textdistance @ file:///tmp/build/80754af9/textdistance_1612461398012/work\n",
      "threadpoolctl @ file:///Users/ktietz/demo/mc3/conda-bld/threadpoolctl_1629802263681/work\n",
      "three-merge @ file:///tmp/build/80754af9/three-merge_1607553261110/work\n",
      "tifffile @ file:///tmp/build/80754af9/tifffile_1627275862826/work\n",
      "tinycss @ file:///tmp/build/80754af9/tinycss_1617713798712/work\n",
      "toml @ file:///tmp/build/80754af9/toml_1616166611790/work\n",
      "toolz @ file:///home/linux1/recipes/ci/toolz_1610987900194/work\n",
      "tornado @ file:///C:/ci/tornado_1606924294691/work\n",
      "tqdm @ file:///tmp/build/80754af9/tqdm_1635330843403/work\n",
      "traitlets @ file:///tmp/build/80754af9/traitlets_1632522747050/work\n",
      "typed-ast @ file:///C:/ci/typed-ast_1624953797214/work\n",
      "typing-extensions @ file:///tmp/build/80754af9/typing_extensions_1631814937681/work\n",
      "ujson @ file:///C:/ci/ujson_1611259568517/work\n",
      "unicodecsv==0.14.1\n",
      "Unidecode @ file:///tmp/build/80754af9/unidecode_1614712377438/work\n",
      "urllib3==1.26.7\n",
      "watchdog @ file:///C:/ci/watchdog_1624955113064/work\n",
      "wcwidth @ file:///Users/ktietz/demo/mc3/conda-bld/wcwidth_1629357192024/work\n",
      "webencodings==0.5.1\n",
      "Werkzeug @ file:///tmp/build/80754af9/werkzeug_1635505089296/work\n",
      "whichcraft @ file:///tmp/build/80754af9/whichcraft_1617751293875/work\n",
      "widgetsnbextension @ file:///C:/ci/widgetsnbextension_1607531582688/work\n",
      "win-inet-pton @ file:///C:/ci/win_inet_pton_1605306162074/work\n",
      "win-unicode-console==0.5\n",
      "wincertstore==0.2\n",
      "wrapt @ file:///C:/ci/wrapt_1607574570428/work\n",
      "xgboost==1.7.5\n",
      "xlrd @ file:///tmp/build/80754af9/xlrd_1608072521494/work\n",
      "XlsxWriter @ file:///tmp/build/80754af9/xlsxwriter_1628603415431/work\n",
      "xlwings==0.24.9\n",
      "xlwt==1.3.0\n",
      "xmltodict @ file:///Users/ktietz/demo/mc3/conda-bld/xmltodict_1629301980723/work\n",
      "yapf @ file:///tmp/build/80754af9/yapf_1615749224965/work\n",
      "zict==2.0.0\n",
      "zipp @ file:///tmp/build/80754af9/zipp_1633618647012/work\n",
      "zope.event==4.5.0\n",
      "zope.interface @ file:///C:/ci/zope.interface_1625036252485/work\n"
     ]
    }
   ],
   "source": [
    "!pip freeze\n"
   ]
  },
  {
   "cell_type": "code",
   "execution_count": null,
   "id": "37b3305f",
   "metadata": {},
   "outputs": [],
   "source": []
  }
 ],
 "metadata": {
  "kernelspec": {
   "display_name": "Python 3 (ipykernel)",
   "language": "python",
   "name": "python3"
  },
  "language_info": {
   "codemirror_mode": {
    "name": "ipython",
    "version": 3
   },
   "file_extension": ".py",
   "mimetype": "text/x-python",
   "name": "python",
   "nbconvert_exporter": "python",
   "pygments_lexer": "ipython3",
   "version": "3.9.7"
  }
 },
 "nbformat": 4,
 "nbformat_minor": 5
}
